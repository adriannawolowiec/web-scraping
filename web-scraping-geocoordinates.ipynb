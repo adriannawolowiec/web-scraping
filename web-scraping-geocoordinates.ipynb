{
 "cells": [
  {
   "cell_type": "markdown",
   "metadata": {},
   "source": [
    "## Examples of web scraping methods"
   ]
  },
  {
   "cell_type": "markdown",
   "metadata": {},
   "source": [
    "#### Import of necessary Python libraries"
   ]
  },
  {
   "cell_type": "code",
   "execution_count": null,
   "metadata": {},
   "outputs": [],
   "source": [
    "import requests\n",
    "import urllib.request\n",
    "import time\n",
    "from bs4 import BeautifulSoup"
   ]
  },
  {
   "cell_type": "markdown",
   "metadata": {},
   "source": [
    "### CASE no. 1: information hidden in subpages (div and class)"
   ]
  },
  {
   "cell_type": "markdown",
   "metadata": {},
   "source": [
    "##### First step: get all subpage url addresses"
   ]
  },
  {
   "cell_type": "code",
   "execution_count": null,
   "metadata": {},
   "outputs": [],
   "source": [
    "html_page = urllib.request.urlopen(\"main_page_url\")\n",
    "soup = BeautifulSoup(html_page, \"html5lib\")\n",
    "\n",
    "link_list = []\n",
    "\n",
    "for link in soup.findAll('a'):\n",
    "    if str(link.get('href'))[:8]=='example_part_of_link_to_identify_subpages':\n",
    "        print(link.get('href'))\n",
    "        link_list.append(link.get('href'))"
   ]
  },
  {
   "cell_type": "markdown",
   "metadata": {},
   "source": [
    "##### Secod step: printing all necessary information"
   ]
  },
  {
   "cell_type": "code",
   "execution_count": null,
   "metadata": {},
   "outputs": [],
   "source": [
    "for html_ending in link_list:\n",
    "    html_page = urllib.request.urlopen(\"main_page_url\"+html_ending)\n",
    "    soup = BeautifulSoup(html_page, \"html5lib\")\n",
    "    for div in soup.findAll('div', {\"class\": \"title\"}):\n",
    "        print(str(div).split(' '))\n",
    "    for div in soup.findAll('div', {\"class\": \"lat-lon\"}):\n",
    "        print(str(div).split(' '))"
   ]
  },
  {
   "cell_type": "markdown",
   "metadata": {},
   "source": [
    "### CASE no. 2: information hidden in subpages (table and class)"
   ]
  },
  {
   "cell_type": "markdown",
   "metadata": {},
   "source": [
    "##### First step: get all subpage url addresses"
   ]
  },
  {
   "cell_type": "code",
   "execution_count": null,
   "metadata": {},
   "outputs": [],
   "source": [
    "html_page = urllib.request.urlopen(\"main_page_url\")\n",
    "soup = BeautifulSoup(html_page, \"html5lib\")\n",
    "\n",
    "link_list = []\n",
    "\n",
    "for link in soup.findAll('a'):\n",
    "    link_list.append(link.get('href'))"
   ]
  },
  {
   "cell_type": "markdown",
   "metadata": {},
   "source": [
    "##### Secod step: printing all necessary information"
   ]
  },
  {
   "cell_type": "code",
   "execution_count": null,
   "metadata": {},
   "outputs": [],
   "source": [
    "for html_ending in link_list:\n",
    "    html_page = urllib.request.urlopen(\"main_page_url\"+html_ending)\n",
    "    soup = BeautifulSoup(html_page, \"html5lib\")\n",
    "    for h2 in soup.findAll('h2', {\"class\": \"h2_type\"}):\n",
    "        print(str(h2).replace('<h2 class=\"h2_type\">', '').replace('</h2>', '').strip())\n",
    "    for counter, table in enumerate(soup.findAll('table', {\"class\": \"m-table\"})):\n",
    "        if counter == 0:\n",
    "            for counter, td in enumerate(table.findAll('td')):\n",
    "                if counter == 1:\n",
    "                    print(' '.join(str(td).replace('<td>', '').replace('</td>', '').strip().replace('\\\\n', '').split()))\n",
    "    for counter, script in enumerate(soup.findAll('script')):\n",
    "        if counter==5:\n",
    "            print(' '.join(str(script)[400:504].replace(' ', '').replace(',','').replace('{','').split()))"
   ]
  }
 ],
 "metadata": {
  "kernelspec": {
   "display_name": "Python 3",
   "language": "python",
   "name": "python3"
  },
  "language_info": {
   "codemirror_mode": {
    "name": "ipython",
    "version": 3
   },
   "file_extension": ".py",
   "mimetype": "text/x-python",
   "name": "python",
   "nbconvert_exporter": "python",
   "pygments_lexer": "ipython3",
   "version": "3.7.5"
  }
 },
 "nbformat": 4,
 "nbformat_minor": 2
}
